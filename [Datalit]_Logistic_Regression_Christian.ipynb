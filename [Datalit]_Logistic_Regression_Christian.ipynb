{
  "nbformat": 4,
  "nbformat_minor": 0,
  "metadata": {
    "colab": {
      "name": "[Datalit] Logistic Regression - Christian.ipynb",
      "version": "0.3.2",
      "provenance": [],
      "collapsed_sections": [],
      "include_colab_link": true
    },
    "kernelspec": {
      "name": "python3",
      "display_name": "Python 3"
    },
    "accelerator": "GPU"
  },
  "cells": [
    {
      "cell_type": "markdown",
      "metadata": {
        "id": "view-in-github",
        "colab_type": "text"
      },
      "source": [
        "<a href=\"https://colab.research.google.com/github/CJRiverFlow/Data_Lit/blob/master/%5BDatalit%5D_Logistic_Regression_Christian.ipynb\" target=\"_parent\"><img src=\"https://colab.research.google.com/assets/colab-badge.svg\" alt=\"Open In Colab\"/></a>"
      ]
    },
    {
      "metadata": {
        "id": "J80uTeSP40qU",
        "colab_type": "code",
        "colab": {}
      },
      "cell_type": "code",
      "source": [
        "import pandas as pd\n",
        "import numpy as np"
      ],
      "execution_count": 0,
      "outputs": []
    },
    {
      "metadata": {
        "id": "I181-cRPhazu",
        "colab_type": "code",
        "colab": {}
      },
      "cell_type": "code",
      "source": [
        "#from google.colab import files\n",
        "#files.upload()"
      ],
      "execution_count": 0,
      "outputs": []
    },
    {
      "metadata": {
        "id": "QOuSuiLg4asM",
        "colab_type": "code",
        "colab": {}
      },
      "cell_type": "code",
      "source": [
        "#! unzip us-census-data.zip"
      ],
      "execution_count": 0,
      "outputs": []
    },
    {
      "metadata": {
        "id": "cG4MS0gc4kdz",
        "colab_type": "code",
        "colab": {}
      },
      "cell_type": "code",
      "source": [
        "#Datasets have no headers, just for info\n",
        "#columns = ['age','workclass','fnlwgt','education','education-num','marital_status',\n",
        "#          'ocupation','relationship','race','sex','capital-gain','capital-loss',\n",
        "#          'hours-per-week','native-country','income']\n"
      ],
      "execution_count": 0,
      "outputs": []
    },
    {
      "metadata": {
        "id": "LJ5FJ80FWe7y",
        "colab_type": "text"
      },
      "cell_type": "markdown",
      "source": [
        "# Functions"
      ]
    },
    {
      "metadata": {
        "id": "4hp39-hwhj57",
        "colab_type": "code",
        "colab": {}
      },
      "cell_type": "code",
      "source": [
        "def sigmoid(z):\n",
        "  result = 1/(1+np.exp(-z))\n",
        "  return result"
      ],
      "execution_count": 0,
      "outputs": []
    },
    {
      "metadata": {
        "id": "w9QyCRXKivTN",
        "colab_type": "code",
        "colab": {}
      },
      "cell_type": "code",
      "source": [
        "def predict(features,weights):\n",
        "  r = np.dot(features,weights)\n",
        "  return sigmoid(r)"
      ],
      "execution_count": 0,
      "outputs": []
    },
    {
      "metadata": {
        "id": "mIvlDbnzjmXn",
        "colab_type": "code",
        "colab": {}
      },
      "cell_type": "code",
      "source": [
        "def cost_function(features, labels, weights):\n",
        "    observations = len(labels)\n",
        "    predictions = predict(features, weights)\n",
        "    class1_cost = -labels*np.log(predictions)\n",
        "    class2_cost = (1-labels)*np.log(1-predictions)\n",
        "    cost = class1_cost + class2_cost\n",
        "    cost = cost.sum() / observations\n",
        "    return cost"
      ],
      "execution_count": 0,
      "outputs": []
    },
    {
      "metadata": {
        "id": "H_MtFd61kE8Z",
        "colab_type": "code",
        "colab": {}
      },
      "cell_type": "code",
      "source": [
        "def update_weights(features, labels, weights, lr):\n",
        "    N = len(features)\n",
        "    predictions = predict(features, weights)\n",
        "    gradient = np.dot(features.T,  predictions - labels)\n",
        "    gradient /= N\n",
        "    gradient *= lr\n",
        "    weights -= gradient\n",
        "    return weights"
      ],
      "execution_count": 0,
      "outputs": []
    },
    {
      "metadata": {
        "id": "E1ZpwBVxkq8q",
        "colab_type": "code",
        "colab": {}
      },
      "cell_type": "code",
      "source": [
        "def decision_boundary(prob):\n",
        "  return 1 if prob >= 0.5 else 0"
      ],
      "execution_count": 0,
      "outputs": []
    },
    {
      "metadata": {
        "id": "9jIDgh_80N2U",
        "colab_type": "code",
        "colab": {}
      },
      "cell_type": "code",
      "source": [
        "def accuracy(predicted_labels, actual_labels):\n",
        "    diff = predicted_labels - actual_labels\n",
        "    return 1.0 - (float(np.count_nonzero(diff)) / len(diff))"
      ],
      "execution_count": 0,
      "outputs": []
    },
    {
      "metadata": {
        "id": "Xg5isxEu8D77",
        "colab_type": "text"
      },
      "cell_type": "markdown",
      "source": [
        "# **Training algorithm**"
      ]
    },
    {
      "metadata": {
        "id": "QIFvm7NlXUC8",
        "colab_type": "code",
        "colab": {}
      },
      "cell_type": "code",
      "source": [
        "#c=[]#global variable"
      ],
      "execution_count": 0,
      "outputs": []
    },
    {
      "metadata": {
        "id": "bFl2y3Cij6qX",
        "colab_type": "code",
        "colab": {}
      },
      "cell_type": "code",
      "source": [
        "def train_with_file(data_file, iters):\n",
        "  columns = ['age','workclass','fnlwgt','education','education-num','marital_status',\n",
        "          'ocupation','relationship','race','sex','capital-gain','capital-loss',\n",
        "          'hours-per-week','native-country','income']\n",
        "\n",
        "  df_train = pd.read_csv(data_file,header=None,names=columns)\n",
        "  \n",
        "  X_train = df_train.iloc[:,:-1]\n",
        "  y_train = df_train.iloc[:,-1]\n",
        "\n",
        "  X_train.replace(' ?', np.nan, inplace=True)\n",
        "  y_train.replace(' ?', np.nan, inplace=True)\n",
        "  y_train = y_train.apply(lambda x: 1 if x==' >50K' else 0)\n",
        "  \n",
        "  X_train['workclass'].fillna(' 0', inplace=True)\n",
        "  X_train['ocupation'].fillna(' 0', inplace=True)\n",
        "  X_train['native-country'].fillna(' 0', inplace=True)\n",
        "  \n",
        "  numerical = ['age','fnlwgt','education-num','capital-gain','capital-loss','hours-per-week']\n",
        "  categorical = ['workclass','education','marital_status','ocupation','relationship','race','sex','native-country']\n",
        "  \n",
        "  p = dict(keys=numerical)\n",
        "  \n",
        "  #CREATING DICTIONARY\n",
        "\n",
        "  for i in range(len(numerical)):\n",
        "    a = min(X_train[numerical[i]])\n",
        "    b = max(X_train[numerical[i]])\n",
        "    p[numerical[i]]=(a,b)\n",
        "  \n",
        "  for j in range(len(numerical)):\n",
        "    d = numerical[j]\n",
        "    X_train[d] =  X_train[d].apply(lambda x: (x-p[d][0])/((p[d][1]-p[d][0])))\n",
        "  \n",
        "  X_train = pd.get_dummies(X_train)\n",
        "  global c \n",
        "  c = X_train.columns\n",
        "  #X_train[categorical] = X_train[categorical].apply(lambda x: pd.factorize(x)[0])\n",
        "  \n",
        "  #TRAINING LOOP\n",
        "  weights = np.random.rand(X_train.shape[1])\n",
        "  cost_history = []\n",
        "  lr=0.1\n",
        "\n",
        "  for i in range(iters):\n",
        "      weights = update_weights(X_train, y_train, weights, lr)\n",
        "\n",
        "      cost = cost_function(X_train, y_train, weights)\n",
        "      cost_history.append(cost)\n",
        "\n",
        "      #if i % 100 == 0:\n",
        "      #  predictions = predict(X_train,weights)\n",
        "      #  predictions=list(map(decision_boundary,predictions))\n",
        "      #  acc = accuracy(predictions,y_train)\n",
        "      #  print(\"iter: \"+str(i) + \" cost: \"+str(cost) + \" accuracy: \"+str(acc))\n",
        "  \n",
        "  return weights, p"
      ],
      "execution_count": 0,
      "outputs": []
    },
    {
      "metadata": {
        "id": "o34A-i4R5Oze",
        "colab_type": "code",
        "outputId": "2951f31c-9ed6-4194-ac3b-a78ae53564c9",
        "colab": {
          "base_uri": "https://localhost:8080/",
          "height": 52
        }
      },
      "cell_type": "code",
      "source": [
        "#%time weights,normalization_params = train_with_file('adult-training.csv', 1000)"
      ],
      "execution_count": 0,
      "outputs": [
        {
          "output_type": "stream",
          "text": [
            "CPU times: user 50.3 s, sys: 29.5 s, total: 1min 19s\n",
            "Wall time: 40.5 s\n"
          ],
          "name": "stdout"
        }
      ]
    },
    {
      "metadata": {
        "id": "bHmbLhJmj_Pc",
        "colab_type": "code",
        "colab": {}
      },
      "cell_type": "code",
      "source": [
        "def classify(data_file, weights, normalization_params):\n",
        "  columns = ['age','workclass','fnlwgt','education','education-num','marital_status',\n",
        "        'ocupation','relationship','race','sex','capital-gain','capital-loss',\n",
        "        'hours-per-week','native-country','income']\n",
        "  df_test = pd.read_csv(data_file,names=columns,skiprows=1)\n",
        "  \n",
        "  X_test = df_test.iloc[:,:-1]\n",
        "  y_test = df_test.iloc[:,-1]\n",
        "\n",
        "  X_test.replace(' ?', np.nan, inplace=True)\n",
        "  y_test.replace(' ?', np.nan, inplace=True)\n",
        "  y_test = y_test.apply(lambda x: 1 if x==' >50K.' else 0)\n",
        "  \n",
        "  X_test['workclass'].fillna(' 0', inplace=True)\n",
        "  X_test['ocupation'].fillna(' 0', inplace=True)\n",
        "  X_test['native-country'].fillna(' 0', inplace=True)\n",
        "  \n",
        "  numerical = ['age','fnlwgt','education-num','capital-gain','capital-loss','hours-per-week']\n",
        "  categorical = ['workclass','education','marital_status','ocupation','relationship','race','sex','native-country']\n",
        "  #X_test[categorical] = X_test[categorical].apply(lambda x: pd.factorize(x)[0])\n",
        "  \n",
        "  q = normalization_params\n",
        "  for j in range(len(numerical)):\n",
        "    d = numerical[j]\n",
        "    X_test[d] =  X_test[d].apply(lambda x: (x-q[d][0])/((q[d][1]-q[d][0])))\n",
        "    \n",
        "  X_test = pd.get_dummies(X_test)\n",
        "  missing_cols = set( c ) - set( X_test.columns )\n",
        "  for w in missing_cols:\n",
        "      X_test[w] = 0\n",
        "  X_test = X_test[c]\n",
        "  \n",
        "  predictions = predict(X_test,weights)\n",
        "  predictions = np.array(list(map(decision_boundary,predictions)))\n",
        "  \n",
        "  return predictions"
      ],
      "execution_count": 0,
      "outputs": []
    },
    {
      "metadata": {
        "id": "2nSrW2sd9ev3",
        "colab_type": "code",
        "outputId": "21ac4566-3fc5-4288-e1a0-fbf32dea3003",
        "colab": {
          "base_uri": "https://localhost:8080/",
          "height": 52
        }
      },
      "cell_type": "code",
      "source": [
        "#%time labels = classify('adult-test.csv', weights, normalization_params)"
      ],
      "execution_count": 0,
      "outputs": [
        {
          "output_type": "stream",
          "text": [
            "CPU times: user 167 ms, sys: 12.4 ms, total: 179 ms\n",
            "Wall time: 170 ms\n"
          ],
          "name": "stdout"
        }
      ]
    },
    {
      "metadata": {
        "id": "vPNMWT0XFtyI",
        "colab_type": "code",
        "colab": {}
      },
      "cell_type": "code",
      "source": [
        "#acc = accuracy(labels,y_test)\n",
        "#acc"
      ],
      "execution_count": 0,
      "outputs": []
    },
    {
      "metadata": {
        "id": "xw_2jJY1kBdj",
        "colab_type": "code",
        "colab": {}
      },
      "cell_type": "code",
      "source": [
        "# Our grading program will use these functions as follows:\n",
        "def sample_main():\n",
        "  weights, normalization_params = train_with_file('adult-training.csv', 1000)\n",
        "  labels = classify('adult-test.csv', weights, normalization_params)"
      ],
      "execution_count": 0,
      "outputs": []
    }
  ]
}